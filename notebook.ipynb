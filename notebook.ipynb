{
  "cells": [
    {
      "cell_type": "markdown",
      "metadata": {
        "id": "view-in-github",
        "colab_type": "text"
      },
      "source": [
        "<a href=\"https://colab.research.google.com/github/anjalys/Project-Investigating-Netflix-Movies/blob/main/notebook.ipynb\" target=\"_parent\"><img src=\"https://colab.research.google.com/assets/colab-badge.svg\" alt=\"Open In Colab\"/></a>"
      ]
    },
    {
      "source": [
        "![Movie popcorn on red background](redpopcorn.jpg)"
      ],
      "metadata": {
        "id": "937acf3c-c077-4ca6-8d90-8f6dd4d13c54"
      },
      "id": "937acf3c-c077-4ca6-8d90-8f6dd4d13c54",
      "cell_type": "markdown"
    },
    {
      "source": [
        "**Netflix**! What started in 1997 as a DVD rental service has since exploded into one of the largest entertainment and media companies.\n",
        "\n",
        "Given the large number of movies and series available on the platform, it is a perfect opportunity to flex your exploratory data analysis skills and dive into the entertainment industry. Our friend has also been brushing up on their Python skills and has taken a first crack at a CSV file containing Netflix data. They believe that the average duration of movies has been declining. Using your friends initial research, you'll delve into the Netflix data to see if you can determine whether movie lengths are actually getting shorter and explain some of the contributing factors, if any.\n",
        "\n",
        "You have been supplied with the dataset `netflix_data.csv` , along with the following table detailing the column names and descriptions. This data does contain null values and some outliers, but handling these is out of scope for the project. Feel free to experiment after submitting!\n",
        "\n",
        "## The data\n",
        "### **netflix_data.csv**\n",
        "| Column | Description |\n",
        "|--------|-------------|\n",
        "| `show_id` | The ID of the show |\n",
        "| `type` | Type of show |\n",
        "| `title` | Title of the show |\n",
        "| `director` | Director of the show |\n",
        "| `cast` | Cast of the show |\n",
        "| `country` | Country of origin |\n",
        "| `date_added` | Date added to Netflix |\n",
        "| `release_year` | Year of Netflix release |\n",
        "| `duration` | Duration of the show in minutes |\n",
        "| `description` | Description of the show |\n",
        "| `genre` | Show genre |"
      ],
      "metadata": {
        "id": "5962b2cd-17bb-4ec9-b2d5-68537ca26860"
      },
      "id": "5962b2cd-17bb-4ec9-b2d5-68537ca26860",
      "cell_type": "markdown"
    },
    {
      "source": [
        "# Importing pandas and matplotlib\n",
        "import pandas as pd\n",
        "import matplotlib.pyplot as plt\n",
        "\n",
        "# Start coding!\n",
        "netflix_df = pd.read_csv('netflix_data.csv')\n",
        "\n",
        "netflix_df.head()\n",
        "\n",
        "netflix_df[type]\n"
      ],
      "metadata": {
        "executionTime": 3456,
        "lastSuccessfullyExecutedCode": "# Importing pandas and matplotlib\nimport pandas as pd\nimport matplotlib.pyplot as plt\n\n# Start coding!\nnetflix_df = pd.read_csv('netflix_data.csv')\n\nnetflix_df.head()\n",
        "executionCancelledAt": null,
        "lastExecutedAt": 1712379783487,
        "lastExecutedByKernel": "aaf231ec-91a0-4d34-9c9e-12248c2e4fe0",
        "lastScheduledRunId": null,
        "outputsMetadata": {
          "0": {
            "height": 196,
            "type": "dataFrame"
          }
        },
        "id": "320a3abc-8a36-4b2b-baaf-473325363a4d",
        "outputId": "ae1e03db-5c33-4463-85f5-1344a31d5a21"
      },
      "id": "320a3abc-8a36-4b2b-baaf-473325363a4d",
      "cell_type": "code",
      "execution_count": null,
      "outputs": [
        {
          "output_type": "execute_result",
          "data": {
            "application/com.datacamp.data-table.v2+json": {
              "table": {
                "schema": {
                  "fields": [
                    {
                      "name": "index",
                      "type": "integer"
                    },
                    {
                      "name": "show_id",
                      "type": "string"
                    },
                    {
                      "name": "type",
                      "type": "string"
                    },
                    {
                      "name": "title",
                      "type": "string"
                    },
                    {
                      "name": "director",
                      "type": "string"
                    },
                    {
                      "name": "cast",
                      "type": "string"
                    },
                    {
                      "name": "country",
                      "type": "string"
                    },
                    {
                      "name": "date_added",
                      "type": "string"
                    },
                    {
                      "name": "release_year",
                      "type": "integer"
                    },
                    {
                      "name": "duration",
                      "type": "integer"
                    },
                    {
                      "name": "description",
                      "type": "string"
                    },
                    {
                      "name": "genre",
                      "type": "string"
                    }
                  ],
                  "primaryKey": [
                    "index"
                  ],
                  "pandas_version": "1.4.0"
                },
                "data": {
                  "index": [
                    0,
                    1,
                    2,
                    3,
                    4
                  ],
                  "show_id": [
                    "s1",
                    "s2",
                    "s3",
                    "s4",
                    "s5"
                  ],
                  "type": [
                    "TV Show",
                    "Movie",
                    "Movie",
                    "Movie",
                    "Movie"
                  ],
                  "title": [
                    "3%",
                    "7:19",
                    "23:59",
                    "9",
                    "21"
                  ],
                  "director": [
                    null,
                    "Jorge Michel Grau",
                    "Gilbert Chan",
                    "Shane Acker",
                    "Robert Luketic"
                  ],
                  "cast": [
                    "João Miguel, Bianca Comparato, Michel Gomes, Rodolfo Valente, Vaneza Oliveira, Rafael Lozano, Viviane Porto, Mel Fronckowiak, Sergio Mamberti, Zezé Motta, Celso Frateschi",
                    "Demián Bichir, Héctor Bonilla, Oscar Serrano, Azalia Ortiz, Octavio Michel, Carmen Beato",
                    "Tedd Chan, Stella Chung, Henley Hii, Lawrence Koh, Tommy Kuan, Josh Lai, Mark Lee, Susan Leong, Benjamin Lim",
                    "Elijah Wood, John C. Reilly, Jennifer Connelly, Christopher Plummer, Crispin Glover, Martin Landau, Fred Tatasciore, Alan Oppenheimer, Tom Kane",
                    "Jim Sturgess, Kevin Spacey, Kate Bosworth, Aaron Yoo, Liza Lapira, Jacob Pitts, Laurence Fishburne, Jack McGee, Josh Gad, Sam Golzari, Helen Carey, Jack Gilpin"
                  ],
                  "country": [
                    "Brazil",
                    "Mexico",
                    "Singapore",
                    "United States",
                    "United States"
                  ],
                  "date_added": [
                    "August 14, 2020",
                    "December 23, 2016",
                    "December 20, 2018",
                    "November 16, 2017",
                    "January 1, 2020"
                  ],
                  "release_year": [
                    2020,
                    2016,
                    2011,
                    2009,
                    2008
                  ],
                  "duration": [
                    4,
                    93,
                    78,
                    80,
                    123
                  ],
                  "description": [
                    "In a future where the elite inhabit an island paradise far from the crowded slums, you get one chance to join the 3% saved from squalor.",
                    "After a devastating earthquake hits Mexico City, trapped survivors from all walks of life wait to be rescued while trying desperately to stay alive.",
                    "When an army recruit is found dead, his fellow soldiers are forced to confront a terrifying secret that's haunting their jungle island training camp.",
                    "In a postapocalyptic world, rag-doll robots hide in fear from dangerous machines out to exterminate them, until a brave newcomer joins the group.",
                    "A brilliant group of students become card-counting experts with the intent of swindling millions out of Las Vegas casinos by playing blackjack."
                  ],
                  "genre": [
                    "International TV",
                    "Dramas",
                    "Horror Movies",
                    "Action",
                    "Dramas"
                  ]
                }
              },
              "total_rows": 5,
              "truncation_type": null
            },
            "text/plain": "  show_id  ...             genre\n0      s1  ...  International TV\n1      s2  ...            Dramas\n2      s3  ...     Horror Movies\n3      s4  ...            Action\n4      s5  ...            Dramas\n\n[5 rows x 11 columns]",
            "text/html": "<div>\n<style scoped>\n    .dataframe tbody tr th:only-of-type {\n        vertical-align: middle;\n    }\n\n    .dataframe tbody tr th {\n        vertical-align: top;\n    }\n\n    .dataframe thead th {\n        text-align: right;\n    }\n</style>\n<table border=\"1\" class=\"dataframe\">\n  <thead>\n    <tr style=\"text-align: right;\">\n      <th></th>\n      <th>show_id</th>\n      <th>type</th>\n      <th>title</th>\n      <th>director</th>\n      <th>cast</th>\n      <th>country</th>\n      <th>date_added</th>\n      <th>release_year</th>\n      <th>duration</th>\n      <th>description</th>\n      <th>genre</th>\n    </tr>\n  </thead>\n  <tbody>\n    <tr>\n      <th>0</th>\n      <td>s1</td>\n      <td>TV Show</td>\n      <td>3%</td>\n      <td>NaN</td>\n      <td>João Miguel, Bianca Comparato, Michel Gomes, R...</td>\n      <td>Brazil</td>\n      <td>August 14, 2020</td>\n      <td>2020</td>\n      <td>4</td>\n      <td>In a future where the elite inhabit an island ...</td>\n      <td>International TV</td>\n    </tr>\n    <tr>\n      <th>1</th>\n      <td>s2</td>\n      <td>Movie</td>\n      <td>7:19</td>\n      <td>Jorge Michel Grau</td>\n      <td>Demián Bichir, Héctor Bonilla, Oscar Serrano, ...</td>\n      <td>Mexico</td>\n      <td>December 23, 2016</td>\n      <td>2016</td>\n      <td>93</td>\n      <td>After a devastating earthquake hits Mexico Cit...</td>\n      <td>Dramas</td>\n    </tr>\n    <tr>\n      <th>2</th>\n      <td>s3</td>\n      <td>Movie</td>\n      <td>23:59</td>\n      <td>Gilbert Chan</td>\n      <td>Tedd Chan, Stella Chung, Henley Hii, Lawrence ...</td>\n      <td>Singapore</td>\n      <td>December 20, 2018</td>\n      <td>2011</td>\n      <td>78</td>\n      <td>When an army recruit is found dead, his fellow...</td>\n      <td>Horror Movies</td>\n    </tr>\n    <tr>\n      <th>3</th>\n      <td>s4</td>\n      <td>Movie</td>\n      <td>9</td>\n      <td>Shane Acker</td>\n      <td>Elijah Wood, John C. Reilly, Jennifer Connelly...</td>\n      <td>United States</td>\n      <td>November 16, 2017</td>\n      <td>2009</td>\n      <td>80</td>\n      <td>In a postapocalyptic world, rag-doll robots hi...</td>\n      <td>Action</td>\n    </tr>\n    <tr>\n      <th>4</th>\n      <td>s5</td>\n      <td>Movie</td>\n      <td>21</td>\n      <td>Robert Luketic</td>\n      <td>Jim Sturgess, Kevin Spacey, Kate Bosworth, Aar...</td>\n      <td>United States</td>\n      <td>January 1, 2020</td>\n      <td>2008</td>\n      <td>123</td>\n      <td>A brilliant group of students become card-coun...</td>\n      <td>Dramas</td>\n    </tr>\n  </tbody>\n</table>\n</div>"
          },
          "metadata": {},
          "execution_count": 1
        }
      ]
    }
  ],
  "metadata": {
    "colab": {
      "provenance": [],
      "include_colab_link": true
    },
    "kernelspec": {
      "display_name": "Python 3 (ipykernel)",
      "language": "python",
      "name": "python3"
    },
    "language_info": {
      "codemirror_mode": {
        "name": "ipython",
        "version": 3
      },
      "file_extension": ".py",
      "mimetype": "text/x-python",
      "name": "python",
      "nbconvert_exporter": "python",
      "pygments_lexer": "ipython3",
      "version": "3.8.10"
    }
  },
  "nbformat": 4,
  "nbformat_minor": 5
}